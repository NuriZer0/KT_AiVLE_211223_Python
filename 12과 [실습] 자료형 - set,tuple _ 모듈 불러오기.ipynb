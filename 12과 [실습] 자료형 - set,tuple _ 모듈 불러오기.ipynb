{
 "cells": [
  {
   "cell_type": "markdown",
   "id": "d12e30ad",
   "metadata": {
    "id": "334d0a98"
   },
   "source": [
    "# chapter 11. 자료형 - set, tuple & 모듈 불러오기"
   ]
  },
  {
   "cell_type": "markdown",
   "id": "bb24d444",
   "metadata": {
    "id": "65384371"
   },
   "source": [
    "## 1) 자료형 - set"
   ]
  },
  {
   "cell_type": "markdown",
   "id": "abf7a806",
   "metadata": {
    "id": "phQwHB-c1F_f"
   },
   "source": [
    "① 1, 2, 3, 4로 구성된 집합 set1을 만들어 출력하고 자료형을 확인해보시오.  \n",
    "* 힌트: type(집합)"
   ]
  },
  {
   "cell_type": "code",
   "execution_count": 2,
   "id": "5104d27a",
   "metadata": {
    "id": "f7f390f7"
   },
   "outputs": [
    {
     "name": "stdout",
     "output_type": "stream",
     "text": [
      "{1, 2, 3, 4}\n",
      "<class 'set'>\n"
     ]
    }
   ],
   "source": [
    "set1 = {1, 2, 3, 4}\n",
    "print(set1)\n",
    "print(type(set1))"
   ]
  },
  {
   "cell_type": "markdown",
   "id": "7de25fc5",
   "metadata": {
    "id": "R8qjqxx91K1L"
   },
   "source": [
    "② 위에서 생성한 set1에 새로운 값 5를 추가하고 결과를 확인한 뒤,  \n",
    "또 다시 새로운 값 3을 추가하고 결과를 확인하시오.  \n",
    "* 힌트: 집합.add(추가할 값)"
   ]
  },
  {
   "cell_type": "code",
   "execution_count": 3,
   "id": "71f08b12",
   "metadata": {
    "id": "9339877b"
   },
   "outputs": [
    {
     "name": "stdout",
     "output_type": "stream",
     "text": [
      "{1, 2, 3, 4, 5}\n",
      "{1, 2, 3, 4, 5}\n"
     ]
    }
   ],
   "source": [
    "set1.add(5)\n",
    "print(set1)\n",
    "set1.add(3)\n",
    "print(set1)"
   ]
  },
  {
   "cell_type": "markdown",
   "id": "754817bf",
   "metadata": {
    "id": "cphdmzBc1ShM"
   },
   "source": [
    "③ 'h', 'e', 'l', 'l', 'o'로 구성된 집합 set2을 만들어 출력하고 자료형을 확인해보시오.\n"
   ]
  },
  {
   "cell_type": "code",
   "execution_count": 4,
   "id": "0602f464",
   "metadata": {
    "id": "842c747a"
   },
   "outputs": [
    {
     "name": "stdout",
     "output_type": "stream",
     "text": [
      "{'l', 'e', 'o', 'h'}\n",
      "<class 'set'>\n"
     ]
    }
   ],
   "source": [
    "set2 = {\"h\", \"e\", \"l\", \"l\", \"o\"}\n",
    "print(set2)\n",
    "print(type(set2))"
   ]
  },
  {
   "cell_type": "markdown",
   "id": "e8ae9872",
   "metadata": {
    "id": "JghQ4JUq1Vwh"
   },
   "source": [
    "④ 위에서 생성한 set2에 새로운 값 'w', 'o', 'r', 'l', 'd'를 추가하고 결과를 확인하시오."
   ]
  },
  {
   "cell_type": "code",
   "execution_count": 6,
   "id": "617d61f4",
   "metadata": {
    "id": "73e3d591"
   },
   "outputs": [
    {
     "name": "stdout",
     "output_type": "stream",
     "text": [
      "{'l', 'd', 'r', 'e', 'o', 'h', 'w'}\n"
     ]
    }
   ],
   "source": [
    "set2.add(\"w\")\n",
    "set2.add(\"o\")\n",
    "set2.add(\"r\")\n",
    "set2.add(\"l\")\n",
    "set2.add(\"d\")\n",
    "print(set2)"
   ]
  },
  {
   "cell_type": "markdown",
   "id": "a699b1c3",
   "metadata": {
    "id": "9ca1d270"
   },
   "source": [
    "## 2) 자료형 - tuple"
   ]
  },
  {
   "cell_type": "markdown",
   "id": "88be6079",
   "metadata": {
    "id": "ZfGLIWb71YTz"
   },
   "source": [
    "① 23.5, 10.1로 구성된 튜플 t1과 1, 2, 3, 4, 5로 구성된 튜플 t2를 각각 만들어 출력하고 자료형을 확인하시오.  \n",
    "* 힌트: type(튜플)"
   ]
  },
  {
   "cell_type": "code",
   "execution_count": 11,
   "id": "e185c4d8",
   "metadata": {
    "id": "f778bb3a"
   },
   "outputs": [
    {
     "name": "stdout",
     "output_type": "stream",
     "text": [
      "(23.5, 10.1)\n",
      "<class 'tuple'>\n",
      "(1, 2, 3, 4, 5)\n",
      "<class 'tuple'>\n"
     ]
    }
   ],
   "source": [
    "t1 = (23.5, 10.1)\n",
    "t2 = (1, 2, 3, 4, 5)\n",
    "print(t1)\n",
    "print(type(t1))\n",
    "print(t2)\n",
    "print(type(t2))"
   ]
  },
  {
   "cell_type": "markdown",
   "id": "7a00e76d",
   "metadata": {
    "id": "uh23gQVb1jo_"
   },
   "source": [
    "② 1, 2, 3, 4, 5로 구성된 튜플 t2에서 인덱스를 사용하여 첫 번째 값과 세 번째 값을 조회하시오."
   ]
  },
  {
   "cell_type": "code",
   "execution_count": 12,
   "id": "e30f5c54",
   "metadata": {
    "id": "00beb53e"
   },
   "outputs": [
    {
     "name": "stdout",
     "output_type": "stream",
     "text": [
      "1\n",
      "3\n"
     ]
    }
   ],
   "source": [
    "print(t2[0])\n",
    "print(t2[2])"
   ]
  },
  {
   "cell_type": "markdown",
   "id": "259c272e",
   "metadata": {
    "id": "cPHsFQtw1mXB"
   },
   "source": [
    "③ empty라는 이름으로 비어 있는 튜플을 만들고 튜플의 자료형을 확인하시오."
   ]
  },
  {
   "cell_type": "code",
   "execution_count": 13,
   "id": "948c9a55",
   "metadata": {
    "id": "3458fe5b"
   },
   "outputs": [
    {
     "name": "stdout",
     "output_type": "stream",
     "text": [
      "<class 'tuple'>\n"
     ]
    }
   ],
   "source": [
    "empty = ()\n",
    "print(type(empty))"
   ]
  },
  {
   "cell_type": "markdown",
   "id": "29c16f41",
   "metadata": {
    "id": "GddN6l121oQY"
   },
   "source": [
    "④ 튜플 t3가 1, 3, 5, 7, 9로 구성되어 있다고 할 때, 인덱스를 사용하여 튜플의 세 번째부터 마지막 값을 출력하시오.\n"
   ]
  },
  {
   "cell_type": "code",
   "execution_count": 14,
   "id": "e53bf606",
   "metadata": {
    "id": "bfa77ac2"
   },
   "outputs": [
    {
     "name": "stdout",
     "output_type": "stream",
     "text": [
      "(5, 7, 9)\n"
     ]
    }
   ],
   "source": [
    "t3 = (1, 3, 5, 7, 9)\n",
    "print(t3[2:])"
   ]
  },
  {
   "cell_type": "markdown",
   "id": "8aa9e0cc",
   "metadata": {
    "id": "0a098884"
   },
   "source": [
    "## 3) 라이브러리(패키지), 모듈, 함수"
   ]
  },
  {
   "cell_type": "markdown",
   "id": "5a75e1d0",
   "metadata": {
    "id": "PDIOMJZM1rjF"
   },
   "source": [
    "① import로 math 라이브러리를 불러와 봅시다. 불러온 라이브러리를 활용하여 팩토리얼 계산을 해 봅시다.  \n",
    "팩토리얼 계산 함수는 n!을 계산할 때 factorial(n)이다. "
   ]
  },
  {
   "cell_type": "code",
   "execution_count": 16,
   "id": "2d208868",
   "metadata": {
    "id": "80d31d90"
   },
   "outputs": [
    {
     "data": {
      "text/plain": [
       "6"
      ]
     },
     "execution_count": 16,
     "metadata": {},
     "output_type": "execute_result"
    }
   ],
   "source": [
    "import math\n",
    "math.factorial(3)"
   ]
  },
  {
   "cell_type": "markdown",
   "id": "95a492a1",
   "metadata": {
    "id": "lgJOPUcg1vbA"
   },
   "source": [
    "② 이번에는 import로 불러온 라이브러리에 별칭을 붙여 봅시다.   \n",
    "math 라이브러리를 불러오며 m이라는 별칭을 붙여 주고,  \n",
    "팩토리얼 계산을 해 봅시다."
   ]
  },
  {
   "cell_type": "code",
   "execution_count": 17,
   "id": "fbdd1828",
   "metadata": {
    "id": "250d3f9d"
   },
   "outputs": [
    {
     "data": {
      "text/plain": [
       "6"
      ]
     },
     "execution_count": 17,
     "metadata": {},
     "output_type": "execute_result"
    }
   ],
   "source": [
    "import math as m\n",
    "m.factorial(3)"
   ]
  },
  {
   "cell_type": "markdown",
   "id": "4b701997",
   "metadata": {
    "id": "KN3iayTi10C6"
   },
   "source": [
    "③ 이번에는 math 라이브러리에서 factorial 함수만 불러와서 팩토리얼 계산을 해 봅시다."
   ]
  },
  {
   "cell_type": "code",
   "execution_count": 18,
   "id": "62e62be9",
   "metadata": {
    "id": "77d10052"
   },
   "outputs": [
    {
     "data": {
      "text/plain": [
       "6"
      ]
     },
     "execution_count": 18,
     "metadata": {},
     "output_type": "execute_result"
    }
   ],
   "source": [
    "from math import factorial\n",
    "factorial(3)"
   ]
  },
  {
   "cell_type": "markdown",
   "id": "bc8aeb3b",
   "metadata": {
    "id": "KN3iayTi10C6"
   },
   "source": [
    "④ random 라이브러리 사용하기\n",
    "* random 라이브러리를 rd 별칭으로 불러옵시다.\n",
    "* randint 함수를 사용해 봅시다.\n",
    "    * randint(a,b) : a부터 b 사이의 임의의 숫자를 반환합니다."
   ]
  },
  {
   "cell_type": "code",
   "execution_count": 27,
   "id": "5b90283a",
   "metadata": {
    "id": "77d10052"
   },
   "outputs": [
    {
     "data": {
      "text/plain": [
       "8"
      ]
     },
     "execution_count": 27,
     "metadata": {},
     "output_type": "execute_result"
    }
   ],
   "source": [
    "import random as rd\n",
    "rd.randint(1, 10)"
   ]
  },
  {
   "cell_type": "markdown",
   "id": "23e1b9c9",
   "metadata": {
    "id": "z4DCZDyu13kD"
   },
   "source": [
    "⑤ [심화] 주사위를 던져서 나온 숫자들의 총합을 구하는 코드를 작성해 봅시다.\n",
    "* 주사위를 던질 횟수를 받는 변수 count(숫자)\n",
    "* count 만큼 주사위를 던져서 나온 모든 숫자들의 합 구해 봅시다.\n",
    "* 주사위의 각 면에는 1 ~ 6까지의 눈이 새겨져 있고, 각 숫자는 무작위로 나옵니다.(randint 함수 사용)\n",
    "\n",
    "* 힌트 : 주사위를 던져 나온 수들을 리스트에 저장하고, sum 함수를 이용해 봅시다."
   ]
  },
  {
   "cell_type": "code",
   "execution_count": 38,
   "id": "3a828202",
   "metadata": {
    "id": "2558fc12"
   },
   "outputs": [
    {
     "name": "stdout",
     "output_type": "stream",
     "text": [
      "주사위를 몇 번 던질까요?\n",
      "89\n",
      "[6, 6, 5, 4, 1, 3, 2, 1, 4, 3, 1, 5, 5, 1, 3, 5, 3, 5, 4, 2, 1, 1, 5, 3, 1, 3, 6, 6, 1, 6, 5, 1, 1, 2, 1, 1, 3, 6, 3, 6, 1, 2, 3, 3, 1, 2, 1, 6, 1, 1, 5, 1, 6, 5, 6, 2, 3, 5, 3, 2, 6, 3, 5, 4, 5, 5, 2, 6, 1, 5, 4, 3, 4, 4, 5, 6, 4, 4, 6, 2, 3, 3, 4, 5, 2, 3, 5, 4, 4]\n",
      "주사위는 총 89 번 굴려졌으며, 주사위 눈의 합계는 307 입니다.\n"
     ]
    }
   ],
   "source": [
    "import random as rd\n",
    "saikoro = []\n",
    "print(\"주사위를 몇 번 던질까요?\")\n",
    "count = input()\n",
    "i = 1\n",
    "while True :\n",
    "    if i <= int(count) :\n",
    "        jusawi = rd.randint(1,6)\n",
    "        saikoro.append(jusawi)\n",
    "        i += 1\n",
    "    else :\n",
    "        break\n",
    "print(saikoro)\n",
    "print(\"주사위는 총\", count, \"번 굴려졌으며, 주사위 눈의 합계는\", sum(saikoro),\"입니다.\")"
   ]
  },
  {
   "cell_type": "markdown",
   "id": "3d4c654f",
   "metadata": {},
   "source": [
    "⑥ [심화] 주사위 두개를 한꺼번에 던져서 나온 두 숫자의 합을 구하고, 이를 여러번 시행했을 때의 평균 값을 구해 봅시다.\n",
    "\n",
    "* 주사위 2개를 던질 횟수 변수 count\n",
    "* 주사위의 각 면에는 1 ~ 6까지의 눈이 새겨져 있고, 각 숫자는 무작위로 나옵니다.(randint 함수 사용)\n",
    "* n번 시행후, 두 주사위 숫자 합의 평균을 구해 봅시다.\n",
    "\n",
    "* 힌트 : 두 주사위를 던져 나온 수의 합을 각각 리스트에 저장하고, sum 함수와 len 함수를 이용하여 평균을 구해 봅시다."
   ]
  },
  {
   "cell_type": "code",
   "execution_count": 39,
   "id": "54fd770e",
   "metadata": {},
   "outputs": [
    {
     "name": "stdout",
     "output_type": "stream",
     "text": [
      "두 주사위를 몇 번 던질까요?\n",
      "7\n",
      "[6, 10, 11, 9, 8, 9, 8]\n",
      "주사위는 총 7 번 굴려졌으며, 두 주사위 눈의 평균은 61.0 입니다.\n"
     ]
    }
   ],
   "source": [
    "import random as rd\n",
    "saikoro = []\n",
    "print(\"두 주사위를 몇 번 던질까요?\")\n",
    "count = input()\n",
    "i = 1\n",
    "while True :\n",
    "    if i <= int(count) :\n",
    "        jusawi = rd.randint(1,6) + rd.randint(1,6)\n",
    "        saikoro.append(jusawi)\n",
    "        i += 1\n",
    "    else :\n",
    "        break\n",
    "print(saikoro)\n",
    "print(\"주사위는 총\", count, \"번 굴려졌으며, 두 주사위 눈의 평균은\", sum(saikoro)/len(count),\"입니다.\")"
   ]
  }
 ],
 "metadata": {
  "colab": {
   "collapsed_sections": [],
   "name": "12과 [실습] 자료형 - set,tuple & 모듈 불러오기.ipynb",
   "provenance": []
  },
  "kernelspec": {
   "display_name": "Python 3",
   "language": "python",
   "name": "python3"
  },
  "language_info": {
   "codemirror_mode": {
    "name": "ipython",
    "version": 3
   },
   "file_extension": ".py",
   "mimetype": "text/x-python",
   "name": "python",
   "nbconvert_exporter": "python",
   "pygments_lexer": "ipython3",
   "version": "3.8.8"
  }
 },
 "nbformat": 4,
 "nbformat_minor": 5
}
